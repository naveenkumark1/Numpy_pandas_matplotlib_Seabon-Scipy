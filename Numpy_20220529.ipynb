{
 "cells": [
  {
   "cell_type": "code",
   "execution_count": null,
   "id": "05bf20bb",
   "metadata": {},
   "outputs": [],
   "source": [
    "## Numpy "
   ]
  },
  {
   "cell_type": "code",
   "execution_count": 18,
   "id": "3b58f64b",
   "metadata": {},
   "outputs": [
    {
     "name": "stdout",
     "output_type": "stream",
     "text": [
      "[1 2 3 4 5]\n"
     ]
    },
    {
     "data": {
      "text/plain": [
       "numpy.ndarray"
      ]
     },
     "execution_count": 18,
     "metadata": {},
     "output_type": "execute_result"
    }
   ],
   "source": [
    "import numpy as np\n",
    "\n",
    "a = np.array([1,2,3,4,5])\n",
    "print(a)\n",
    "type(a)"
   ]
  },
  {
   "cell_type": "code",
   "execution_count": 20,
   "id": "fedf8fa6",
   "metadata": {},
   "outputs": [
    {
     "name": "stdout",
     "output_type": "stream",
     "text": [
      "[1 2 3 4 5]\n"
     ]
    },
    {
     "data": {
      "text/plain": [
       "numpy.ndarray"
      ]
     },
     "execution_count": 20,
     "metadata": {},
     "output_type": "execute_result"
    }
   ],
   "source": [
    "import numpy as np\n",
    "\n",
    "a = np.array((1,2,3,4,5))\n",
    "print(a)\n",
    "type(a)"
   ]
  },
  {
   "cell_type": "code",
   "execution_count": 21,
   "id": "42f52147",
   "metadata": {},
   "outputs": [
    {
     "name": "stdout",
     "output_type": "stream",
     "text": [
      "{1, 2, 3, 4, 5}\n"
     ]
    },
    {
     "data": {
      "text/plain": [
       "numpy.ndarray"
      ]
     },
     "execution_count": 21,
     "metadata": {},
     "output_type": "execute_result"
    }
   ],
   "source": [
    "import numpy as np\n",
    "\n",
    "a = np.array({1,2,3,4,5})\n",
    "print(a)\n",
    "type(a)"
   ]
  },
  {
   "cell_type": "code",
   "execution_count": 22,
   "id": "5980c5e0",
   "metadata": {},
   "outputs": [
    {
     "name": "stdout",
     "output_type": "stream",
     "text": [
      "{'A': 1, 'B': 2}\n"
     ]
    },
    {
     "data": {
      "text/plain": [
       "numpy.ndarray"
      ]
     },
     "execution_count": 22,
     "metadata": {},
     "output_type": "execute_result"
    }
   ],
   "source": [
    "import numpy as np\n",
    "\n",
    "a = np.array({'A':1,'B':2})\n",
    "print(a)\n",
    "type(a)"
   ]
  },
  {
   "cell_type": "code",
   "execution_count": 24,
   "id": "ee881b5a",
   "metadata": {},
   "outputs": [
    {
     "data": {
      "text/plain": [
       "array([], dtype=float64)"
      ]
     },
     "execution_count": 24,
     "metadata": {},
     "output_type": "execute_result"
    }
   ],
   "source": [
    "## Empty numpy array \n",
    "\n",
    "import numpy as np \n",
    "\n",
    "arr = np.array([])\n",
    "arr"
   ]
  },
  {
   "cell_type": "code",
   "execution_count": 29,
   "id": "000ec86e",
   "metadata": {},
   "outputs": [
    {
     "name": "stdout",
     "output_type": "stream",
     "text": [
      "[[0. 0. 0. 0. 0. 0.]\n",
      " [0. 0. 0. 0. 0. 0.]\n",
      " [0. 0. 0. 0. 0. 0.]]\n",
      "[[1. 1. 1. 1. 1. 1. 1.]\n",
      " [1. 1. 1. 1. 1. 1. 1.]\n",
      " [1. 1. 1. 1. 1. 1. 1.]\n",
      " [1. 1. 1. 1. 1. 1. 1.]]\n"
     ]
    }
   ],
   "source": [
    "## ND Array Initialisation : Helper functions ( zeroes, ones )\n",
    "\n",
    "import numpy as np \n",
    "\n",
    "zer = np.zeros((3,6))\n",
    "print(zer)\n",
    "\n",
    "onz = np.ones((4,7))\n",
    "print(onz)"
   ]
  },
  {
   "cell_type": "code",
   "execution_count": 33,
   "id": "f0d1215c",
   "metadata": {},
   "outputs": [
    {
     "name": "stdout",
     "output_type": "stream",
     "text": [
      "[[0. 0. 0. 0. 0. 0.]\n",
      " [0. 0. 0. 0. 0. 0.]\n",
      " [0. 0. 0. 0. 0. 0.]]\n"
     ]
    }
   ],
   "source": [
    "## ND Array Initialisation : Helper functions ( zeroes, ones )\n",
    "\n",
    "import numpy as np \n",
    "\n",
    "zer = np.zeros([3,6])\n",
    "print(zer)\n"
   ]
  },
  {
   "cell_type": "code",
   "execution_count": 36,
   "id": "609679e0",
   "metadata": {},
   "outputs": [
    {
     "data": {
      "text/plain": [
       "array([10, 14, 18, 22, 26, 30, 34, 38, 42, 46])"
      ]
     },
     "execution_count": 36,
     "metadata": {},
     "output_type": "execute_result"
    }
   ],
   "source": [
    "## Arange : Start, Stop, Stepsize \n",
    "\n",
    "np.arange(10,50,4)"
   ]
  },
  {
   "cell_type": "code",
   "execution_count": 41,
   "id": "631862f0",
   "metadata": {},
   "outputs": [
    {
     "data": {
      "text/plain": [
       "array([  0.,  20.,  40.,  60.,  80., 100.])"
      ]
     },
     "execution_count": 41,
     "metadata": {},
     "output_type": "execute_result"
    }
   ],
   "source": [
    "## linspace is equal spaced numbers \n",
    "\n",
    "np.linspace(0,100,6)"
   ]
  },
  {
   "cell_type": "code",
   "execution_count": 44,
   "id": "aef032f2",
   "metadata": {},
   "outputs": [
    {
     "data": {
      "text/plain": [
       "608"
      ]
     },
     "execution_count": 44,
     "metadata": {},
     "output_type": "execute_result"
    }
   ],
   "source": [
    "len(dir(np))"
   ]
  },
  {
   "cell_type": "code",
   "execution_count": 46,
   "id": "239e8b54",
   "metadata": {},
   "outputs": [
    {
     "data": {
      "text/plain": [
       "'1.21.5'"
      ]
     },
     "execution_count": 46,
     "metadata": {},
     "output_type": "execute_result"
    }
   ],
   "source": [
    "np.__version__"
   ]
  },
  {
   "cell_type": "code",
   "execution_count": 47,
   "id": "8ab20ff4",
   "metadata": {},
   "outputs": [
    {
     "data": {
      "text/plain": [
       "array([['India', 'India', 'India', 'India', 'India', 'India'],\n",
       "       ['India', 'India', 'India', 'India', 'India', 'India'],\n",
       "       ['India', 'India', 'India', 'India', 'India', 'India']],\n",
       "      dtype='<U5')"
      ]
     },
     "execution_count": 47,
     "metadata": {},
     "output_type": "execute_result"
    }
   ],
   "source": [
    "np.full([3,6],\"India\")"
   ]
  },
  {
   "cell_type": "code",
   "execution_count": 48,
   "id": "bcc2640a",
   "metadata": {},
   "outputs": [
    {
     "data": {
      "text/plain": [
       "array([[3.1415, 3.1415, 3.1415, 3.1415, 3.1415, 3.1415],\n",
       "       [3.1415, 3.1415, 3.1415, 3.1415, 3.1415, 3.1415],\n",
       "       [3.1415, 3.1415, 3.1415, 3.1415, 3.1415, 3.1415]])"
      ]
     },
     "execution_count": 48,
     "metadata": {},
     "output_type": "execute_result"
    }
   ],
   "source": [
    "np.full((3,6),3.1415)"
   ]
  },
  {
   "cell_type": "code",
   "execution_count": 50,
   "id": "6ac54341",
   "metadata": {},
   "outputs": [
    {
     "data": {
      "text/plain": [
       "array([[0.58602949, 0.99611937, 0.31130229, 0.05371283, 0.70785298],\n",
       "       [0.7640993 , 0.48972958, 0.8339357 , 0.0306125 , 0.37931381],\n",
       "       [0.63088467, 0.31955729, 0.1715205 , 0.86056062, 0.05215872],\n",
       "       [0.51819753, 0.69406214, 0.99279711, 0.62116468, 0.22947267]])"
      ]
     },
     "execution_count": 50,
     "metadata": {},
     "output_type": "execute_result"
    }
   ],
   "source": [
    "np.random.random((4,5))"
   ]
  },
  {
   "cell_type": "code",
   "execution_count": null,
   "id": "5e5b27ad",
   "metadata": {},
   "outputs": [],
   "source": [
    "#### Array insepction "
   ]
  },
  {
   "cell_type": "code",
   "execution_count": 52,
   "id": "093a6d96",
   "metadata": {},
   "outputs": [
    {
     "data": {
      "text/plain": [
       "array([[0.11537075, 0.91648005, 0.51575921, 0.45878976, 0.13338744],\n",
       "       [0.97786218, 0.41926138, 0.07454849, 0.70636915, 0.63744773],\n",
       "       [0.08431154, 0.34092482, 0.64516269, 0.7626317 , 0.13663158],\n",
       "       [0.84510077, 0.17854611, 0.73250129, 0.62157337, 0.3073264 ]])"
      ]
     },
     "execution_count": 52,
     "metadata": {},
     "output_type": "execute_result"
    }
   ],
   "source": [
    "arr = np.random.random((4,5))\n",
    "arr"
   ]
  },
  {
   "cell_type": "code",
   "execution_count": 53,
   "id": "6a5156b7",
   "metadata": {},
   "outputs": [
    {
     "data": {
      "text/plain": [
       "(4, 5)"
      ]
     },
     "execution_count": 53,
     "metadata": {},
     "output_type": "execute_result"
    }
   ],
   "source": [
    "## row X column\n",
    "arr.shape"
   ]
  },
  {
   "cell_type": "code",
   "execution_count": 54,
   "id": "5d6df8c2",
   "metadata": {},
   "outputs": [
    {
     "data": {
      "text/plain": [
       "20"
      ]
     },
     "execution_count": 54,
     "metadata": {},
     "output_type": "execute_result"
    }
   ],
   "source": [
    "# Number of elements in the array\n",
    "arr.size"
   ]
  },
  {
   "cell_type": "code",
   "execution_count": 67,
   "id": "af06d70b",
   "metadata": {},
   "outputs": [
    {
     "name": "stdout",
     "output_type": "stream",
     "text": [
      "2\n",
      "---------------------------\n",
      "[2 2 2]\n",
      "1\n",
      "---------------------------\n",
      "[[2 2 2]\n",
      " [3 3 3]]\n",
      "2\n",
      "---------------------------\n",
      "[[[2 2 2]\n",
      "  [3 3 3]\n",
      "  [4 4 4]]]\n",
      "3\n"
     ]
    }
   ],
   "source": [
    "## The dimension of the array ( 1D, 2D, 3D.. )\n",
    "print(arr.ndim)\n",
    "print(\"---------------------------\")\n",
    "\n",
    "r = np.array([2,2,2])\n",
    "print(r)\n",
    "print(r.ndim)\n",
    "\n",
    "print(\"---------------------------\")\n",
    "rr = np.array([[2,2,2],[3,3,3]])\n",
    "print(rr)\n",
    "print(rr.ndim)\n",
    "\n",
    "print(\"---------------------------\")\n",
    "rrr = np.array([[[2,2,2],[3,3,3],[4,4,4]]])\n",
    "print(rrr)\n",
    "print(rrr.ndim)"
   ]
  },
  {
   "cell_type": "code",
   "execution_count": 57,
   "id": "141f7d87",
   "metadata": {},
   "outputs": [
    {
     "data": {
      "text/plain": [
       "dtype('float64')"
      ]
     },
     "execution_count": 57,
     "metadata": {},
     "output_type": "execute_result"
    }
   ],
   "source": [
    "## The data type of elements in an array\n",
    "arr.dtype"
   ]
  },
  {
   "cell_type": "code",
   "execution_count": 73,
   "id": "88c268ed",
   "metadata": {},
   "outputs": [
    {
     "name": "stdout",
     "output_type": "stream",
     "text": [
      "[ 1  2  3  4  5  6  7  8  9 10 11 12]\n",
      "[[ 1  2  3]\n",
      " [ 4  5  6]\n",
      " [ 7  8  9]\n",
      " [10 11 12]]\n",
      "[ 1  2  3  4  5  6  7  8  9 10 11 12]\n",
      "None\n",
      "[[ 1  2]\n",
      " [ 3  4]\n",
      " [ 5  6]\n",
      " [ 7  8]\n",
      " [ 9 10]\n",
      " [11 12]]\n"
     ]
    }
   ],
   "source": [
    "### reshape and resize in numpy \n",
    "\n",
    "# reshape doesnot change the original array \n",
    "# resize changes the original array \n",
    "\n",
    "ls = np.array([1,2,3,4,5,6,7,8,9,10,11,12])\n",
    "print(ls)\n",
    "\n",
    "print(ls.reshape(4,3))\n",
    "print(ls)\n",
    "\n",
    "print(ls.resize(6,2))\n",
    "print(ls)\n"
   ]
  },
  {
   "cell_type": "code",
   "execution_count": 78,
   "id": "a5a6ae01",
   "metadata": {},
   "outputs": [
    {
     "data": {
      "text/plain": [
       "60"
      ]
     },
     "execution_count": 78,
     "metadata": {},
     "output_type": "execute_result"
    }
   ],
   "source": [
    "### Array Mathematics \n",
    "\n",
    "# single argument operation\n",
    "np.sum([10,20,10,20])"
   ]
  },
  {
   "cell_type": "code",
   "execution_count": 86,
   "id": "0c349ae7",
   "metadata": {},
   "outputs": [
    {
     "name": "stdout",
     "output_type": "stream",
     "text": [
      "[[10 20]\n",
      " [10 20]]\n",
      "60\n",
      "[20 40]\n",
      "[30 30]\n"
     ]
    }
   ],
   "source": [
    "print(np.array([[10,20],[10,20]]))\n",
    "\n",
    "print(np.sum([[10,20],[10,20]]))\n",
    "\n",
    "print(np.sum([[10,20],[10,20]],axis = 0))  ## Column wise addition\n",
    "\n",
    "print(np.sum([[10,20],[10,20]],axis = 1))  ## Row wise addition "
   ]
  },
  {
   "cell_type": "code",
   "execution_count": 90,
   "id": "123f3294",
   "metadata": {},
   "outputs": [
    {
     "data": {
      "text/plain": [
       "array([20, 40])"
      ]
     },
     "execution_count": 90,
     "metadata": {},
     "output_type": "execute_result"
    }
   ],
   "source": [
    "np.add([10,20],[10,20])"
   ]
  },
  {
   "cell_type": "code",
   "execution_count": 94,
   "id": "dd1d09de",
   "metadata": {},
   "outputs": [
    {
     "data": {
      "text/plain": [
       "array([0, 0])"
      ]
     },
     "execution_count": 94,
     "metadata": {},
     "output_type": "execute_result"
    }
   ],
   "source": [
    "np.subtract([10,20],[10,20])"
   ]
  },
  {
   "cell_type": "code",
   "execution_count": 93,
   "id": "bf014ddb",
   "metadata": {},
   "outputs": [
    {
     "name": "stdout",
     "output_type": "stream",
     "text": [
      "[[0 0]]\n",
      "[[10]\n",
      " [10]]\n"
     ]
    }
   ],
   "source": [
    "print(np.diff([[10,20],[10,20]],axis = 0))  ## Column wise addition\n",
    "\n",
    "print(np.diff([[10,20],[10,20]],axis = 1))  ## Row wise addition "
   ]
  },
  {
   "cell_type": "code",
   "execution_count": 96,
   "id": "3fb779e4",
   "metadata": {},
   "outputs": [
    {
     "data": {
      "text/plain": [
       "array([100, 400])"
      ]
     },
     "execution_count": 96,
     "metadata": {},
     "output_type": "execute_result"
    }
   ],
   "source": [
    "np.multiply([10,20],[10,20])"
   ]
  },
  {
   "cell_type": "code",
   "execution_count": 95,
   "id": "38c4155f",
   "metadata": {},
   "outputs": [
    {
     "data": {
      "text/plain": [
       "array([1., 1.])"
      ]
     },
     "execution_count": 95,
     "metadata": {},
     "output_type": "execute_result"
    }
   ],
   "source": [
    "np.divide([10,20],[10,20])"
   ]
  },
  {
   "cell_type": "code",
   "execution_count": 101,
   "id": "660458b4",
   "metadata": {},
   "outputs": [
    {
     "name": "stdout",
     "output_type": "stream",
     "text": [
      "[ True  True  True  True False]\n",
      "False\n"
     ]
    }
   ],
   "source": [
    "#### Comparison of the arrays \n",
    "\n",
    "## Equal \n",
    "\n",
    "a = [1,2,3,4,5]\n",
    "b = [1,2,3,4,50]\n",
    "\n",
    "print(np.equal(a,b))\n",
    "\n",
    "## Array equal \n",
    "\n",
    "a = [1,2,3,4,5]\n",
    "b = [1,2,3,4,50]\n",
    "\n",
    "print(np.array_equal(a,b))"
   ]
  },
  {
   "cell_type": "code",
   "execution_count": 144,
   "id": "6efba08a",
   "metadata": {},
   "outputs": [
    {
     "name": "stdout",
     "output_type": "stream",
     "text": [
      "[[0.58550707 0.67500163 0.09981625 0.53771242]\n",
      " [0.09447007 0.14595617 0.71095298 0.79979994]\n",
      " [0.82833024 0.72895429 0.60283834 0.6750038 ]]\n",
      "[[0.614929   0.92222637 0.19099474 0.706019  ]\n",
      " [0.28610377 0.48707819 0.21564395 0.00709881]\n",
      " [0.99582819 0.04998899 0.29275247 0.7802733 ]]\n"
     ]
    },
    {
     "data": {
      "text/plain": [
       "array([[False, False, False, False],\n",
       "       [False, False, False, False],\n",
       "       [False, False, False, False]])"
      ]
     },
     "execution_count": 144,
     "metadata": {},
     "output_type": "execute_result"
    }
   ],
   "source": [
    "a = np.random.random([3,4])\n",
    "b = np.random.random([3,4])\n",
    "\n",
    "print(a)\n",
    "print(b)\n",
    "\n",
    "np.equal(a,b)"
   ]
  },
  {
   "cell_type": "code",
   "execution_count": 151,
   "id": "3142c7a0",
   "metadata": {},
   "outputs": [
    {
     "name": "stdout",
     "output_type": "stream",
     "text": [
      "[[0.11253549 0.92045486 0.47301466 0.6590571 ]\n",
      " [0.78308441 0.51262062 0.69907647 0.39001515]\n",
      " [0.80449074 0.62391332 0.62826469 0.13168347]]\n",
      "[[0.11253549 0.92045486 0.47301466 0.6590571 ]\n",
      " [0.78308441 0.51262062 0.69907647 0.39001515]\n",
      " [0.80449074 0.62391332 0.62826469 0.13168347]]\n"
     ]
    },
    {
     "data": {
      "text/plain": [
       "True"
      ]
     },
     "execution_count": 151,
     "metadata": {},
     "output_type": "execute_result"
    }
   ],
   "source": [
    "np.random.seed(1017)\n",
    "a=np.random.random((3,4))\n",
    "print(a)\n",
    "\n",
    "np.random.seed(1017)\n",
    "b=np.random.random((3,4))\n",
    "print(b)\n",
    "\n",
    "np.array_equal(a,b)"
   ]
  },
  {
   "cell_type": "code",
   "execution_count": 155,
   "id": "68bf57e9",
   "metadata": {},
   "outputs": [
    {
     "name": "stdout",
     "output_type": "stream",
     "text": [
      "12629\n",
      "1\n",
      "12234\n",
      "1052.4166666666667\n",
      "17.5\n",
      "1.0\n",
      "3371.939018288373\n"
     ]
    }
   ],
   "source": [
    "## Aggregation functions in numpy \n",
    "\n",
    "a = np.array([1,2,3,4,5,23,43,12,23,45,234,12234,43,43,43])\n",
    "print(np.sum(a))\n",
    "print(np.min(a))\n",
    "print(np.max(a))\n",
    "print(np.mean(a))\n",
    "print(np.median(a))\n",
    "print(np.corrcoef(a))\n",
    "print(np.std(a))"
   ]
  },
  {
   "cell_type": "code",
   "execution_count": null,
   "id": "86096a9a",
   "metadata": {},
   "outputs": [],
   "source": [
    "## Explore mode "
   ]
  },
  {
   "cell_type": "code",
   "execution_count": 158,
   "id": "d56d4994",
   "metadata": {},
   "outputs": [
    {
     "name": "stdout",
     "output_type": "stream",
     "text": [
      "[[0.4585235  0.33801889 0.90240329 0.02984286]\n",
      " [0.62227332 0.54211072 0.5455967  0.46551511]\n",
      " [0.11455275 0.0113933  0.31268572 0.10220149]\n",
      " [0.96229321 0.3348193  0.24029417 0.78776711]]\n",
      "[[ 1.          0.49763134  0.78287939 -0.55538056]\n",
      " [ 0.49763134  1.          0.06116429  0.20216171]\n",
      " [ 0.78287939  0.06116429  1.         -0.33648809]\n",
      " [-0.55538056  0.20216171 -0.33648809  1.        ]]\n"
     ]
    }
   ],
   "source": [
    "## Calculation of corrlation coefficient \n",
    "\n",
    "x = np.random.random((4,4))\n",
    "print(x)\n",
    "\n",
    "cc = np.corrcoef(x)\n",
    "print(cc)"
   ]
  },
  {
   "cell_type": "code",
   "execution_count": 161,
   "id": "ac05ba51",
   "metadata": {},
   "outputs": [
    {
     "data": {
      "text/plain": [
       "['BitGenerator',\n",
       " 'Generator',\n",
       " 'MT19937',\n",
       " 'PCG64',\n",
       " 'PCG64DXSM',\n",
       " 'Philox',\n",
       " 'RandomState',\n",
       " 'SFC64',\n",
       " 'SeedSequence',\n",
       " '__RandomState_ctor',\n",
       " '__all__',\n",
       " '__builtins__',\n",
       " '__cached__',\n",
       " '__doc__',\n",
       " '__file__',\n",
       " '__loader__',\n",
       " '__name__',\n",
       " '__package__',\n",
       " '__path__',\n",
       " '__spec__',\n",
       " '_bounded_integers',\n",
       " '_common',\n",
       " '_generator',\n",
       " '_mt19937',\n",
       " '_pcg64',\n",
       " '_philox',\n",
       " '_pickle',\n",
       " '_sfc64',\n",
       " 'beta',\n",
       " 'binomial',\n",
       " 'bit_generator',\n",
       " 'bytes',\n",
       " 'chisquare',\n",
       " 'choice',\n",
       " 'default_rng',\n",
       " 'dirichlet',\n",
       " 'exponential',\n",
       " 'f',\n",
       " 'gamma',\n",
       " 'geometric',\n",
       " 'get_state',\n",
       " 'gumbel',\n",
       " 'hypergeometric',\n",
       " 'laplace',\n",
       " 'logistic',\n",
       " 'lognormal',\n",
       " 'logseries',\n",
       " 'mtrand',\n",
       " 'multinomial',\n",
       " 'multivariate_normal',\n",
       " 'negative_binomial',\n",
       " 'noncentral_chisquare',\n",
       " 'noncentral_f',\n",
       " 'normal',\n",
       " 'pareto',\n",
       " 'permutation',\n",
       " 'poisson',\n",
       " 'power',\n",
       " 'rand',\n",
       " 'randint',\n",
       " 'randn',\n",
       " 'random',\n",
       " 'random_integers',\n",
       " 'random_sample',\n",
       " 'ranf',\n",
       " 'rayleigh',\n",
       " 'sample',\n",
       " 'seed',\n",
       " 'set_state',\n",
       " 'shuffle',\n",
       " 'standard_cauchy',\n",
       " 'standard_exponential',\n",
       " 'standard_gamma',\n",
       " 'standard_normal',\n",
       " 'standard_t',\n",
       " 'test',\n",
       " 'triangular',\n",
       " 'uniform',\n",
       " 'vonmises',\n",
       " 'wald',\n",
       " 'weibull',\n",
       " 'zipf']"
      ]
     },
     "execution_count": 161,
     "metadata": {},
     "output_type": "execute_result"
    }
   ],
   "source": [
    "## random.random\n",
    "dir(np.random)"
   ]
  },
  {
   "cell_type": "code",
   "execution_count": 178,
   "id": "a32f96d3",
   "metadata": {},
   "outputs": [
    {
     "name": "stdout",
     "output_type": "stream",
     "text": [
      "['C' 'I' 'S' 'C' 'O']\n",
      "['C' 'I' 'S' 'C' 'O']\n",
      "['C' 'I' 'S' 'C' 'O']\n",
      "['C' 'I' 'S' 'C' 'O']\n"
     ]
    }
   ],
   "source": [
    "## Slicing\n",
    "\n",
    "ls = np.array(['S','A','N','F','R','A','N','C','I','S','C','O'])\n",
    "ls \n",
    "\n",
    "print(ls[7:])\n",
    "print(ls[-5:])\n",
    "print(ls[7:12])\n",
    "print(ls[-5:12])\n"
   ]
  },
  {
   "cell_type": "code",
   "execution_count": 185,
   "id": "7bcf490b",
   "metadata": {},
   "outputs": [
    {
     "data": {
      "text/plain": [
       "array([['A', 'B', 'C', 'D'],\n",
       "       ['E', 'F', 'G', 'H'],\n",
       "       ['I', 'J', 'K', 'L'],\n",
       "       ['M', 'N', 'O', 'P']], dtype='<U1')"
      ]
     },
     "execution_count": 185,
     "metadata": {},
     "output_type": "execute_result"
    }
   ],
   "source": [
    "ls = np.array(['A','B','C','D','E','F','G','H','I','J','K','L','M','N','O','P'])\n",
    "\n",
    "ls.resize(4,4)\n",
    "ls"
   ]
  },
  {
   "cell_type": "code",
   "execution_count": 188,
   "id": "7cd99e15",
   "metadata": {},
   "outputs": [
    {
     "data": {
      "text/plain": [
       "array([['A']], dtype='<U1')"
      ]
     },
     "execution_count": 188,
     "metadata": {},
     "output_type": "execute_result"
    }
   ],
   "source": [
    "ls[0:1,0:1]"
   ]
  },
  {
   "cell_type": "code",
   "execution_count": 190,
   "id": "4f1eefaf",
   "metadata": {},
   "outputs": [
    {
     "data": {
      "text/plain": [
       "array([['C', 'D']], dtype='<U1')"
      ]
     },
     "execution_count": 190,
     "metadata": {},
     "output_type": "execute_result"
    }
   ],
   "source": [
    "ls[0:1,2:]"
   ]
  },
  {
   "cell_type": "code",
   "execution_count": 191,
   "id": "e215494b",
   "metadata": {},
   "outputs": [
    {
     "data": {
      "text/plain": [
       "array([['F'],\n",
       "       ['J']], dtype='<U1')"
      ]
     },
     "execution_count": 191,
     "metadata": {},
     "output_type": "execute_result"
    }
   ],
   "source": [
    "ls[1:3,1:2]"
   ]
  },
  {
   "cell_type": "code",
   "execution_count": 192,
   "id": "c36fceb4",
   "metadata": {},
   "outputs": [
    {
     "data": {
      "text/plain": [
       "array([['K']], dtype='<U1')"
      ]
     },
     "execution_count": 192,
     "metadata": {},
     "output_type": "execute_result"
    }
   ],
   "source": [
    "ls[2:3,2:3]"
   ]
  },
  {
   "cell_type": "code",
   "execution_count": 193,
   "id": "fcdf8c22",
   "metadata": {},
   "outputs": [
    {
     "data": {
      "text/plain": [
       "array([['K', 'L'],\n",
       "       ['O', 'P']], dtype='<U1')"
      ]
     },
     "execution_count": 193,
     "metadata": {},
     "output_type": "execute_result"
    }
   ],
   "source": [
    "ls[2:,2:]"
   ]
  },
  {
   "cell_type": "code",
   "execution_count": 204,
   "id": "d5b406ef",
   "metadata": {},
   "outputs": [
    {
     "data": {
      "text/plain": [
       "array([ 1,  2,  3,  4, 10, 20, 30, 40])"
      ]
     },
     "execution_count": 204,
     "metadata": {},
     "output_type": "execute_result"
    }
   ],
   "source": [
    "## Array manipulation \n",
    "\n",
    "# Concatination \n",
    "\n",
    "a = np.array([1,2,3,4])\n",
    "b = np.array([10,20,30,40])\n",
    "\n",
    "np.concatenate((a,b), axis=0)\n",
    "\n",
    "#np.concatenate((a,b), axis=1)  # Doesnot work "
   ]
  },
  {
   "cell_type": "code",
   "execution_count": 205,
   "id": "c9d44f0a",
   "metadata": {},
   "outputs": [
    {
     "data": {
      "text/plain": [
       "array([[ 1,  2,  3,  4],\n",
       "       [10, 20, 30, 40]])"
      ]
     },
     "execution_count": 205,
     "metadata": {},
     "output_type": "execute_result"
    }
   ],
   "source": [
    "# Verical stack\n",
    "np.vstack((a,b))"
   ]
  },
  {
   "cell_type": "code",
   "execution_count": 206,
   "id": "2500ced1",
   "metadata": {},
   "outputs": [
    {
     "data": {
      "text/plain": [
       "array([ 1,  2,  3,  4, 10, 20, 30, 40])"
      ]
     },
     "execution_count": 206,
     "metadata": {},
     "output_type": "execute_result"
    }
   ],
   "source": [
    "# Horizontal stack\n",
    "np.hstack((a,b))"
   ]
  },
  {
   "cell_type": "code",
   "execution_count": 209,
   "id": "c5e3e336",
   "metadata": {},
   "outputs": [
    {
     "data": {
      "text/plain": [
       "array([[ 1, 10],\n",
       "       [ 2, 20],\n",
       "       [ 3, 30],\n",
       "       [ 4, 40]])"
      ]
     },
     "execution_count": 209,
     "metadata": {},
     "output_type": "execute_result"
    }
   ],
   "source": [
    "# Column stack \n",
    "np.column_stack((a,b))"
   ]
  },
  {
   "cell_type": "code",
   "execution_count": 230,
   "id": "163b0f24",
   "metadata": {},
   "outputs": [
    {
     "name": "stdout",
     "output_type": "stream",
     "text": [
      "[[0.50323869 0.84500537 0.26629791 0.98377522]\n",
      " [0.16773877 0.17540427 0.39044877 0.20787274]\n",
      " [0.28514667 0.94539745 0.25547421 0.17813421]\n",
      " [0.65571781 0.57507551 0.62617887 0.42882936]\n",
      " [0.58560304 0.43430326 0.41814516 0.33931133]\n",
      " [0.52426098 0.58565108 0.55159724 0.50924718]]\n",
      "-------------------------\n",
      "[array([[0.50323869, 0.84500537],\n",
      "       [0.16773877, 0.17540427],\n",
      "       [0.28514667, 0.94539745],\n",
      "       [0.65571781, 0.57507551],\n",
      "       [0.58560304, 0.43430326],\n",
      "       [0.52426098, 0.58565108]]), array([[0.26629791, 0.98377522],\n",
      "       [0.39044877, 0.20787274],\n",
      "       [0.25547421, 0.17813421],\n",
      "       [0.62617887, 0.42882936],\n",
      "       [0.41814516, 0.33931133],\n",
      "       [0.55159724, 0.50924718]])]\n",
      "-------------------------\n"
     ]
    },
    {
     "data": {
      "text/plain": [
       "array([[0.50323869, 0.84500537],\n",
       "       [0.16773877, 0.17540427],\n",
       "       [0.28514667, 0.94539745],\n",
       "       [0.65571781, 0.57507551],\n",
       "       [0.58560304, 0.43430326],\n",
       "       [0.52426098, 0.58565108]])"
      ]
     },
     "execution_count": 230,
     "metadata": {},
     "output_type": "execute_result"
    }
   ],
   "source": [
    "# Hsplit \n",
    "\n",
    "ls = np.random.random((6,4))\n",
    "print(ls)\n",
    "print('-------------------------')\n",
    "hsp = np.hsplit(ls,2)\n",
    "print(hsp)\n",
    "print('-------------------------')\n",
    "#print(hsp[0])\n",
    "#print(hsp[1])\n",
    "\n",
    "hsp1,hsp2=np.hsplit(ls,2)\n",
    "hsp1"
   ]
  },
  {
   "cell_type": "code",
   "execution_count": 231,
   "id": "a0e29ac1",
   "metadata": {},
   "outputs": [
    {
     "name": "stdout",
     "output_type": "stream",
     "text": [
      "[[0.78517027 0.29730233 0.52148351 0.93868448]\n",
      " [0.79232854 0.77874596 0.79631769 0.95640208]\n",
      " [0.92735885 0.18183505 0.9879701  0.39903881]\n",
      " [0.67552143 0.64428998 0.38517511 0.40064017]\n",
      " [0.38998868 0.13375193 0.60222479 0.22683718]\n",
      " [0.64197146 0.20611934 0.0528098  0.90999435]]\n",
      "-------------------------\n",
      "[array([[0.78517027, 0.29730233, 0.52148351, 0.93868448],\n",
      "       [0.79232854, 0.77874596, 0.79631769, 0.95640208],\n",
      "       [0.92735885, 0.18183505, 0.9879701 , 0.39903881]]), array([[0.67552143, 0.64428998, 0.38517511, 0.40064017],\n",
      "       [0.38998868, 0.13375193, 0.60222479, 0.22683718],\n",
      "       [0.64197146, 0.20611934, 0.0528098 , 0.90999435]])]\n",
      "-------------------------\n"
     ]
    }
   ],
   "source": [
    "# Vsplit\n",
    "\n",
    "ls = np.random.random((6,4))\n",
    "print(ls)\n",
    "print('-------------------------')\n",
    "hsp = np.vsplit(ls,2)\n",
    "print(hsp)\n",
    "print('-------------------------')"
   ]
  },
  {
   "cell_type": "code",
   "execution_count": 229,
   "id": "7ef35609",
   "metadata": {},
   "outputs": [
    {
     "name": "stdout",
     "output_type": "stream",
     "text": [
      "1\n",
      "2\n",
      "3\n"
     ]
    }
   ],
   "source": [
    "# Multiple assignment\n",
    "a,b,c = 1,2,3\n",
    "print(a)\n",
    "print(b)\n",
    "print(c)"
   ]
  },
  {
   "cell_type": "code",
   "execution_count": null,
   "id": "4d90093e",
   "metadata": {},
   "outputs": [],
   "source": []
  },
  {
   "cell_type": "code",
   "execution_count": null,
   "id": "bfa65e6f",
   "metadata": {},
   "outputs": [],
   "source": []
  }
 ],
 "metadata": {
  "kernelspec": {
   "display_name": "Python 3 (ipykernel)",
   "language": "python",
   "name": "python3"
  },
  "language_info": {
   "codemirror_mode": {
    "name": "ipython",
    "version": 3
   },
   "file_extension": ".py",
   "mimetype": "text/x-python",
   "name": "python",
   "nbconvert_exporter": "python",
   "pygments_lexer": "ipython3",
   "version": "3.9.12"
  }
 },
 "nbformat": 4,
 "nbformat_minor": 5
}
